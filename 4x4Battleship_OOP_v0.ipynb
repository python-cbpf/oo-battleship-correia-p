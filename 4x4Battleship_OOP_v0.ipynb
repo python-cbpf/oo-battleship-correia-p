{
 "cells": [
  {
   "cell_type": "markdown",
   "metadata": {},
   "source": [
    "# 4x4 Battleship -  v0\n",
    "\n",
    "Pedro Silva Correia"
   ]
  },
  {
   "cell_type": "code",
   "execution_count": 1,
   "metadata": {},
   "outputs": [],
   "source": [
    "import numpy as np"
   ]
  },
  {
   "cell_type": "code",
   "execution_count": 2,
   "metadata": {},
   "outputs": [],
   "source": [
    "class Player():\n",
    "    \"\"\"Player object\"\"\"\n",
    "    def __init__(self, name='someone'):\n",
    "        self.name = name\n",
    "        self.map = np.empty(shape=(4,4), dtype=str)\n",
    "        self.enemy_map = np.empty(shape=(4,4), dtype=str)\n",
    "    \n",
    "    def display_map(self):\n",
    "        return self.map\n",
    "                   \n",
    "    def display_enemy_map(self):\n",
    "        for i in self.map:\n",
    "            for j in i:\n",
    "                    print(j, end = \"  \")\n",
    "    \n",
    "    def suken_ships(self):\n",
    "        pass\n",
    "        \n",
    "        "
   ]
  },
  {
   "cell_type": "code",
   "execution_count": 5,
   "metadata": {},
   "outputs": [],
   "source": [
    "class Game():\n",
    "    \n",
    "    players=[None, None]\n",
    "    \n",
    "    def __init__(self):\n",
    "        print('BATTLESHIP 4x4 - v0\\n')\n",
    "        print('---------------------------------------------------------------------------')\n",
    "        print('---------------------------------------------------------------------------\\n\\n')\n",
    "        self.get_players()\n",
    "        self.set_ships()\n",
    "        self.play()\n",
    "        \n",
    "    def get_players(self):\n",
    "        for i in range(2):\n",
    "            print('Player', i+1, ',')\n",
    "            player_name = input(\"type your name: \")\n",
    "            player = Player(player_name)\n",
    "            self.players[i] = player\n",
    "            print('\\n')\n",
    "            \n",
    "        \n",
    "    def set_ships(self):\n",
    "        for i in range(2):\n",
    "            print('---------------------------------------------------------------------------')\n",
    "            print(self.players[i].name, ', time to set your ships!')\n",
    "            print('You must choose the position of your 4 ships, each one is identified by its coordinates (x, y). Remember that in our game we have a 4x4 grid (ie x, y = 1, 2, 3 or 4).')\n",
    "            ships = ['Ship 1', 'Ship 2', 'Ship 3', 'Ship 4']\n",
    "            for j in range(4):\n",
    "                print()\n",
    "                ships = ['Ship 1', 'Ship 2', 'Ship 3', 'Ship 4']\n",
    "                print(ships[j], '(x,y)')\n",
    "                x = input('input x: ')\n",
    "                y = input('input y: ')\n",
    "                self.players[i].map[int(x)-1][int(y)-1] = 's'\n",
    "            print('-------------------------')\n",
    "            print(self.players[i].name, \", your map looks like this:\\n\", self.players[i].map, '\\n---------------------------------------------------------------------------\\n')\n",
    "            \n",
    "    def play(self):\n",
    "        print(\"LET'S START THE GAME !\\n---------------------------------------------------------------------------\\n\")\n",
    "        print(\"In each round each player must choose the coordinates of the enemy map they wish to bombard.\")\n",
    "        print(\"The letter 'O' will appear on the enemy map if you hit a ship, otherwise an 'X' will appear. The game ends when one of the players sinks all four of the enemy's ships. Good luck!\\n\\n---------------------------------------------------------------------------\\n\")\n",
    "        round = []\n",
    "        hits = [[],[]]   # stores each player's hits [[player1],[player2]]\n",
    "        roundd = 1       # counts the match runds \n",
    "        while len(hits[0]) != 4 and len(hits[1]) != 4:\n",
    "            print('Round:', roundd)\n",
    "            print('\\n-----------------------\\n')\n",
    "            for k in range(2):\n",
    "                print(self.players[k].name, \", enter the coordinate (x,y) you want to bombard.\")\n",
    "                x = int(input('input x: ')) - 1\n",
    "                y = int(input('input y: ')) - 1\n",
    "                if self.players[(k+1) % 2].map[x][y] == 's':\n",
    "                    print('HIT! :D')\n",
    "                    hits[k].append(1)\n",
    "                    self.players[k].enemy_map[x][y] = 'X'\n",
    "                    self.players[(k+1) % 2].map[x][y] = 'X'\n",
    "                else:\n",
    "                    print('miss :(')\n",
    "                    self.players[k].enemy_map[x][y] = 'O'\n",
    "                    self.players[(k+1) % 2].map[x][y] = 'O'\n",
    "\n",
    "                print(\"\\nUpdated enemy map:\")\n",
    "                print(self.players[k].enemy_map)\n",
    "                print('Sunken ships:', len(hits[k]))\n",
    "                print('\\n-----------------------\\n')\n",
    "            roundd = roundd + 1\n",
    "        if len(hits[0]) == 4:\n",
    "            print(self.players[0].name, \"wins!\")\n",
    "        else:\n",
    "            print(self.players[1].name, \"wins!\")"
   ]
  },
  {
   "cell_type": "code",
   "execution_count": null,
   "metadata": {},
   "outputs": [],
   "source": []
  }
 ],
 "metadata": {
  "kernelspec": {
   "display_name": "Python 3",
   "language": "python",
   "name": "python3"
  },
  "language_info": {
   "codemirror_mode": {
    "name": "ipython",
    "version": 3
   },
   "file_extension": ".py",
   "mimetype": "text/x-python",
   "name": "python",
   "nbconvert_exporter": "python",
   "pygments_lexer": "ipython3",
   "version": "3.7.3"
  }
 },
 "nbformat": 4,
 "nbformat_minor": 2
}
